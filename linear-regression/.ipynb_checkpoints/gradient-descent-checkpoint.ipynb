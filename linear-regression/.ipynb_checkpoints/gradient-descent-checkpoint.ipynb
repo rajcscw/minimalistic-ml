{
 "cells": [
  {
   "cell_type": "markdown",
   "metadata": {},
   "source": [
    "## Gradient Descent"
   ]
  },
  {
   "cell_type": "markdown",
   "metadata": {},
   "source": [
    "Gradient Descent](https://en.wikipedia.org/wiki/Gradient_descent) is a simple optimization technique which forms the building block in training neural networks.\n",
    "But we all have used this in our daily life in one way or the other. I'll give one example. Remember the days when we\n",
    "used TV antennas. Whenever we see grainy images, we had to adjust antenna's alignment.\n",
    "First, we change the antenna's position in different directions and find which direction gave better results. Then, we make further adjustments in the same direction until we get fine image.\n",
    "This is exactly gradient descent does. We make some adjustments to variables in such a way to get maximum performance out of the system."
   ]
  }
 ],
 "metadata": {
  "kernelspec": {
   "display_name": "Python 3",
   "language": "python",
   "name": "python3"
  },
  "language_info": {
   "codemirror_mode": {
    "name": "ipython",
    "version": 3
   },
   "file_extension": ".py",
   "mimetype": "text/x-python",
   "name": "python",
   "nbconvert_exporter": "python",
   "pygments_lexer": "ipython3",
   "version": "3.5.1"
  }
 },
 "nbformat": 4,
 "nbformat_minor": 0
}
