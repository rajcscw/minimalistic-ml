{
 "cells": [
  {
   "cell_type": "markdown",
   "metadata": {},
   "source": [
    "## Gradient Descent"
   ]
  },
  {
   "cell_type": "markdown",
   "metadata": {},
   "source": [
    "Gradient Descent](https://en.wikipedia.org/wiki/Gradient_descent) is a simple optimization technique which forms the building block in training neural networks.\n",
    "But we all have used this in our daily life in one way or the other. I'll give one example. Remember the days when we\n",
    "used TV antennas. Whenever we see grainy images, we had to adjust antenna's alignment.\n",
    "First, we change the antenna's position in different directions and find which direction gave better results. Then, we make further adjustments in the same direction until we get fine image.\n",
    "This is exactly gradient descent does. We make some adjustments to variables in such a way to get maximum performance out of the system."
   ]
  },
  {
   "cell_type": "markdown",
   "metadata": {},
   "source": [
    "Let's import the packages that we need for array arithmetrics and plotting (matplotlib and seaborne)"
   ]
  },
  {
   "cell_type": "code",
   "execution_count": null,
   "metadata": {
    "collapsed": false
   },
   "outputs": [],
   "source": [
    "%matplotlib inline\n",
    "\n",
    "import numpy as np\n",
    "import matplotlib.pyplot as plt\n",
    "import seaborn as sns\n",
    "from mpl_toolkits.mplot3d import Axes3D"
   ]
  },
  {
   "cell_type": "markdown",
   "metadata": {
    "collapsed": true
   },
   "source": [
    "Define the functions for computing function values at $x$ and $y$ and partial derivatives of $f$ w.r.t to $x$ and $y$"
   ]
  },
  {
   "cell_type": "code",
   "execution_count": null,
   "metadata": {
    "collapsed": true
   },
   "outputs": [],
   "source": [
    "def fun(x, y):\n",
    "    return x**2 + y**2\n",
    "\n",
    "def fun_der_x(x):\n",
    "    return 2 * x\n",
    "\n",
    "def fun_der_y(y):\n",
    "    return 2 * y"
   ]
  },
  {
   "cell_type": "markdown",
   "metadata": {},
   "source": [
    "We start the search from a random point ie. random values for $x$ and $y$"
   ]
  },
  {
   "cell_type": "code",
   "execution_count": null,
   "metadata": {
    "collapsed": false
   },
   "outputs": [],
   "source": [
    "# Initial values - Start the solution search randomly\n",
    "random = np.random.randint(-100,100,2)\n",
    "x, y = random[0], random[1]\n",
    "f = fun(x, y)"
   ]
  },
  {
   "cell_type": "markdown",
   "metadata": {
    "collapsed": true
   },
   "source": [
    "And we create a matplotlib figure for plotting the results"
   ]
  },
  {
   "cell_type": "code",
   "execution_count": null,
   "metadata": {
    "collapsed": false
   },
   "outputs": [],
   "source": [
    "# Figure for plotting\n",
    "fig = plt.figure()\n",
    "ax = fig.add_subplot(111, projection='3d')\n",
    "ax.set_xlabel(\"x\")\n",
    "ax.set_ylabel(\"y\")\n",
    "ax.set_zlabel(\"f\")"
   ]
  },
  {
   "cell_type": "markdown",
   "metadata": {},
   "source": [
    "We define the parameters for gradient descent such as update rate $\\eta$ and number of iterations $niter$ respectively"
   ]
  },
  {
   "cell_type": "code",
   "execution_count": null,
   "metadata": {
    "collapsed": true
   },
   "outputs": [],
   "source": [
    "# Parameters\n",
    "step_size = 0.07\n",
    "n_iter = 100"
   ]
  },
  {
   "cell_type": "markdown",
   "metadata": {},
   "source": [
    "And finally, we perform gradient descent and at every step, we also display the updated values for $x$ and $y$ in the plot."
   ]
  },
  {
   "cell_type": "code",
   "execution_count": null,
   "metadata": {
    "collapsed": true
   },
   "outputs": [],
   "source": [
    "# Do gradient descent\n",
    "for i in range(n_iter):\n",
    "    der_x = fun_der_x(x)\n",
    "    der_y = fun_der_y(y)\n",
    "    x_prev, y_prev, f_prev = x,y,f\n",
    "    x -= step_size * der_x\n",
    "    y -= step_size * der_y\n",
    "    f = fun(x, y)\n",
    "    ax.scatter(x_prev, y_prev, f_prev)\n",
    "plt.show()"
   ]
  }
 ],
 "metadata": {
  "kernelspec": {
   "display_name": "Python 3",
   "language": "python",
   "name": "python3"
  },
  "language_info": {
   "codemirror_mode": {
    "name": "ipython",
    "version": 3
   },
   "file_extension": ".py",
   "mimetype": "text/x-python",
   "name": "python",
   "nbconvert_exporter": "python",
   "pygments_lexer": "ipython3",
   "version": "3.5.1"
  }
 },
 "nbformat": 4,
 "nbformat_minor": 0
}
