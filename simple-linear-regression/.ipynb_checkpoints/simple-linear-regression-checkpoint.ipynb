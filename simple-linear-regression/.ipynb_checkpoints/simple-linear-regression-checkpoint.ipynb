{
 "cells": [
  {
   "cell_type": "markdown",
   "metadata": {},
   "source": [
    "Suppose, we are given a set of 2-D points ${(x_1,y_1),(x_2,y_2) ..(x_n,y_n)}$ and we would want to approximate these points by a straight line, we can use **[linear regression](https://en.wikipedia.org/wiki/Linear_regression)**. As we know, any straight line is of the form $f(x) =  w_1 x + w_0$ (slope-intercept form). To fit such a line on the given points, we just have to find appropriate values for $w_0$ and $w_1$. This can be done using **gradient descent**. Take a look at **[this](https://github.com/rajcscw/minimalistic-ml/blob/master/gradient-descent/gradient-descent.ipynb)** if you are not familiar with it. But, remember gradient descent requires an objective function that is to be minimized. In linear regression, that objective function is the quality of fit of the line to the data points. This quality can be measured in terms of squared error between the actual value and value fitted using the line. It is generally known as **squared loss** and denoted by $L$. For each point $x_i$, it is defined as\n",
    "\n",
    "\\begin{equation}\n",
    "L_i = (f(x_i) - y_i)^2\n",
    "\\end{equation}\n",
    "\n",
    "<img src=\"points.svg\" alt=\"Points\" width=\"30%\"/>\n",
    "\n",
    "In gradient descent, we start with random values for $w_0$ and $w_1$. Then, we make small adjustments to them which results in reduced loss. The update equations are simple:\n",
    "\n",
    "\\begin{equation}\n",
    "w_0 = w_0 - \\eta \\nabla_{w_0} \\\\\n",
    "w_1 = w_1 - \\eta \\nabla_{w_1}\n",
    "\\end{equation}\n",
    "\n",
    "The $\\nabla_{w_0}$ and $\\nabla_{w_1}$ are the partial derivates of $L_i$ w.r.t to $w_0$ and $w_1$ respectively. \n",
    "\n",
    "\\begin{align}\n",
    "\\nabla_{w_0}  & = \\frac{\\partial L_i}{\\partial w_0} = \\frac{\\partial}{\\partial w_0} (f(x_i) - y_i)^2\\\\\n",
    "&= 2 (f(x_i) - y_i )\\frac{\\partial}{\\partial w_0} (f(x_i) - y_i) \\\\\n",
    "&= 2 (f(x_i) - y_i )\\frac{\\partial}{\\partial w_0} ( w_1 x_i + w_0- y_i) \\\\\n",
    "&= 2 (f(x_i) - y_i )  ( 1 ) \\\\\n",
    "&= 2 (f(x_i) - y_i )\n",
    "\\end{align}\n",
    "\n",
    "\\begin{align}\n",
    "\\nabla_{w_1}  & = \\frac{\\partial L_i}{\\partial w_1} = \\frac{\\partial}{\\partial w_1} (f(x_i) - y_i)^2\\\\\n",
    "&= 2 (f(x_i) - y_i )\\frac{\\partial}{\\partial w_1} (f(x_i) - y_i) \\\\\n",
    "&= 2 (f(x_i) - y_i )\\frac{\\partial}{\\partial w_1} ( w_1 x_i + w_0- y_i) \\\\\n",
    "&= 2 (f(x_i) - y_i )  ( x_i ) \\\\\n",
    "\\end{align}"
   ]
  },
  {
   "cell_type": "code",
   "execution_count": 43,
   "metadata": {
    "collapsed": true
   },
   "outputs": [],
   "source": [
    "%matplotlib inline\n",
    "\n",
    "import numpy as np\n",
    "import matplotlib.pyplot as plt\n",
    "import seaborn as sns\n",
    "from mpl_toolkits.mplot3d import Axes3D\n",
    "from IPython.display import display"
   ]
  },
  {
   "cell_type": "code",
   "execution_count": 44,
   "metadata": {
    "collapsed": true
   },
   "outputs": [],
   "source": [
    "def fun(w0, w1, x):\n",
    "    return w1 * x + w0"
   ]
  },
  {
   "cell_type": "code",
   "execution_count": 45,
   "metadata": {
    "collapsed": true
   },
   "outputs": [],
   "source": [
    "# Generate sample points\n",
    "X = 1.0 * np.random.randint(0, 100, 100)\n",
    "Y = 2 * X + 10\n",
    "noise = 2.0*np.random.randn(Y.shape[0])\n",
    "Y += noise"
   ]
  },
  {
   "cell_type": "code",
   "execution_count": 46,
   "metadata": {
    "collapsed": false
   },
   "outputs": [
    {
     "data": {
      "text/plain": [
       "<matplotlib.collections.PathCollection at 0x11a3a5f28>"
      ]
     },
     "execution_count": 46,
     "metadata": {},
     "output_type": "execute_result"
    },
    {
     "data": {
      "image/png": "[encoded data removed]",
      "text/plain": [
       "<matplotlib.figure.Figure at 0x1195ae240>"
      ]
     },
     "metadata": {},
     "output_type": "display_data"
    }
   ],
   "source": [
    "# Plot the points\n",
    "fig = plt.figure()\n",
    "ax = fig.add_subplot(111)\n",
    "ax.set_xlabel(\"x\")\n",
    "ax.set_ylabel(\"y\")\n",
    "ax.scatter(X,Y)"
   ]
  },
  {
   "cell_type": "code",
   "execution_count": 47,
   "metadata": {
    "collapsed": true
   },
   "outputs": [],
   "source": [
    "# Initialize weight w0, w1\n",
    "w0 = np.random.randint(0,100)\n",
    "w1 = np.random.randint(0,100)"
   ]
  },
  {
   "cell_type": "code",
   "execution_count": 48,
   "metadata": {
    "collapsed": true
   },
   "outputs": [],
   "source": [
    "# Parameters\n",
    "n_iter = 1000\n",
    "step_size = 9e-5\n",
    "n = X.shape[0]"
   ]
  },
  {
   "cell_type": "code",
   "execution_count": 49,
   "metadata": {
    "collapsed": false
   },
   "outputs": [
    {
     "name": "stdout",
     "output_type": "stream",
     "text": [
      "Loss: 139916.699183\n",
      "Loss: 60658.7966242\n",
      "Loss: 26437.6311198\n",
      "Loss: 11673.5868733\n",
      "Loss: 5311.58505576\n",
      "Loss: 2575.16685821\n",
      "Loss: 1401.50962574\n",
      "Loss: 900.325229059\n",
      "Loss: 687.76431264\n",
      "Loss: 598.584977997\n"
     ]
    }
   ],
   "source": [
    "# Fit a model using stochastic gradient descent\n",
    "for i in range(n_iter):\n",
    "    for j in range(n):\n",
    "        # x and y\n",
    "        x = X[j]\n",
    "        y = Y[j]\n",
    "\n",
    "        # f\n",
    "        f = fun(w0, w1, x)\n",
    "\n",
    "        # Compute gradients\n",
    "        w0_grad = 2 * (f - y)\n",
    "        w1_grad = 2 * (f - y) * x\n",
    "\n",
    "        # Update weights using stochastic gradient descent\n",
    "        w0 += -step_size * w0_grad\n",
    "        w1 += -step_size * w1_grad\n",
    "\n",
    "    # Print squared loss at each iteration\n",
    "    if i % 100 == 0:\n",
    "        loss = np.sum((fun(w0, w1, X) - Y)**2)\n",
    "        print(\"Loss: \"+str(loss))"
   ]
  },
  {
   "cell_type": "code",
   "execution_count": 50,
   "metadata": {
    "collapsed": false
   },
   "outputs": [
    {
     "data": {
      "image/png": "[encoded data removed]",
      "text/plain": [
       "<matplotlib.figure.Figure at 0x1195ae240>"
      ]
     },
     "metadata": {},
     "output_type": "display_data"
    }
   ],
   "source": [
    "# Plot the predicted line\n",
    "Y_pred = fun(w0, w1, X)\n",
    "ax.plot(X,Y_pred)\n",
    "display(fig)"
   ]
  },
  {
   "cell_type": "code",
   "execution_count": 51,
   "metadata": {
    "collapsed": false
   },
   "outputs": [
    {
     "name": "stdout",
     "output_type": "stream",
     "text": [
      "w1=1.96297591192, w0=10.9986806075\n"
     ]
    }
   ],
   "source": [
    "print(\"w1=\"+str(w1)+\", w0=\"+str(w0))"
   ]
  },
  {
   "cell_type": "code",
   "execution_count": null,
   "metadata": {
    "collapsed": true
   },
   "outputs": [],
   "source": []
  }
 ],
 "metadata": {
  "kernelspec": {
   "display_name": "Python 3",
   "language": "python",
   "name": "python3"
  },
  "language_info": {
   "codemirror_mode": {
    "name": "ipython",
    "version": 3
   },
   "file_extension": ".py",
   "mimetype": "text/x-python",
   "name": "python",
   "nbconvert_exporter": "python",
   "pygments_lexer": "ipython3",
   "version": "3.5.1"
  }
 },
 "nbformat": 4,
 "nbformat_minor": 0
}
